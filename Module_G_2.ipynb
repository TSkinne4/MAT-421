{
  "nbformat": 4,
  "nbformat_minor": 0,
  "metadata": {
    "colab": {
      "provenance": [],
      "authorship_tag": "ABX9TyOq64i7l5Ib++CfA8bWZw5F",
      "include_colab_link": true
    },
    "kernelspec": {
      "name": "python3",
      "display_name": "Python 3"
    },
    "language_info": {
      "name": "python"
    }
  },
  "cells": [
    {
      "cell_type": "markdown",
      "metadata": {
        "id": "view-in-github",
        "colab_type": "text"
      },
      "source": [
        "<a href=\"https://colab.research.google.com/github/TSkinne4/MAT-421/blob/main/Module_G_2.ipynb\" target=\"_parent\"><img src=\"https://colab.research.google.com/assets/colab-badge.svg\" alt=\"Open In Colab\"/></a>"
      ]
    },
    {
      "cell_type": "code",
      "execution_count": null,
      "metadata": {
        "id": "T3j0sT2fKIKI"
      },
      "outputs": [],
      "source": []
    },
    {
      "cell_type": "markdown",
      "source": [
        "#Simpson's Rule\n",
        "\n",
        "Simpson's Rule works by taking two sub intervals, $[x_{i-1},x_i]$ and $[x_i,x_{i+1}]$ and then defining a quadratic using the points $(x_{i-1},f(x_{i-1}))$, $(x_{i},f(x_{i}))$, and $(x_{i+1},f(x_{i+1}))$ and integrating over the quadratic. We define the quadratuc by using Lagrange polynomials. Defining h as the length of a sub-interval, we get that\n",
        "  $$P_i(x)= \\frac{(x-x_i)(x-x_{i+1})}{2h^2}f(x_{i-1})-\\frac{(x-x_{i-1})(x-x_{i+1})}{h^2}f(x_i)$+\\frac{(x-x_{i-1})(x-x_i)}{2h^2}f(x_{i+1}).$$\n",
        "  With this, we see that\n",
        "  $$\\int_{x_{i-1}}^{x_{i+1}}P_i(x)dx = \\frac{h}{3}\\left(f(x_{i-1})+4f(x_i)+f(x_{i+1})\\right).$$\n",
        "  By regrouping terms we get that\n",
        "$$\\int_a^bf(x)dx\\approx \\frac{h}{3}\\left[f(x_0)+4\\left(\\sum_{i=1,i\\text{ odd}}^{n-1}f(x_i)\\right)+2\\left(\\sum_{i=2,i\\text{ even}}^{n-2}f(x_i)\\right)+f(x_n))\\right].$$\n",
        "Note that for Simpson's rule, we will need an odd number of points. Using Taylor series, we can see that we get that \n",
        "$$\\frac{f(x_{i-1})+4f(x_i)+f(x_{i+1})}{6} = f(x_i) + \\frac{h^2}{6}f''(x_i) + \\frac{h^4}{72}f''''(x_i)+\\dots$$. Therefore, we will get that\n",
        "  $$f(x_i) = \\frac{f(x_{i-1})+4f(x_i)+f(x_{i+1})}{6} - \\frac{h^2}{6}f''(x_i) - \\frac{h^4}{72}f''''(x_i)+\\mathcal{O}(h^4).$$\n",
        "  From this, we get that \n",
        "  $$\\begin{align*}\n",
        "    \\int_{x_{i-1}}^{x_{i+1}}f(x)dx &= \\int_{x_{i-1}}^{x_{i+1}}\\left(f(x_i)+f'(x_i)(x-x_i)+\\frac{f''(x_i)(x-x_i)^2}{2!}+\\frac{f'''(x_i)(x-x_i)^3}{3!}+\\frac{f''''(x_i)(x-x_i)^4}{4!}+\\dots\\right)\\\\\n",
        "    &= 2hf(x_i) + \\frac{h^3}{3}f''(x_i) + \\mathcal{O}(h^5)\\\\\n",
        "    &= 2h\\left(\\frac{f(x_{i-1})+4f(x_i)+f(x_{i+1})}{6} - \\frac{h^2}{6}f''(x_i) - \\frac{h^4}{72}f''''(x_i)+\\mathcal{O}(h^4)\\right) + \\frac{h^3}{3}f''(x_i) + \\mathcal{O}(h^5)\\\\\n",
        "    &= \\frac{h}{3}\\left(f(x_{i-1})+4f(x_i)+f(x_{i+1})\\right)+\\mathcal{O}(h^5).\n",
        "  \\end{align*}$$\n",
        "Thus, over the entire interval, we expect an error of $\\mathcal{O}(h^4)$. The code shows how varying the numner of points changes the error in the integral\n"
      ],
      "metadata": {
        "id": "_81Y8WkpH63F"
      }
    },
    {
      "cell_type": "code",
      "source": [
        "import numpy as np\n",
        "import matplotlib.pyplot as plt\n",
        "\n",
        "N = 201\n",
        "left = 0\n",
        "right = 2\n",
        "f = lambda x : np.exp(x)\n",
        "exact = np.exp(2)-1\n",
        "h_list = []\n",
        "error_list = []\n",
        "\n",
        "\n",
        "for n in np.arange(3,N,2):\n",
        "  h = (right-left)/n\n",
        "  h_list.append(h)\n",
        "  x = np.linspace(left,right,n)\n",
        "  func = f(x)\n",
        "  I = func[0]+func[-1]\n",
        "  for i in range(1,n,2):\n",
        "    I+=4*func[i]\n",
        "  for i in range(2,n-1,2):\n",
        "    I+=2*func[i]\n",
        "  I = I*h/3\n",
        "  error_list.append(np.abs(exact-I))\n",
        "plt.semilogy(h_list,error_list)\n",
        "plt.xlabel(\"h\")\n",
        "plt.ylabel(\"Error\")\n",
        "plt.title(\"Error vs h for $e^x$ from 0 to 2 \")\n",
        "\n",
        "\n",
        "\n"
      ],
      "metadata": {
        "colab": {
          "base_uri": "https://localhost:8080/",
          "height": 313
        },
        "id": "6OMT3Cc1bd2i",
        "outputId": "6bd70384-3d4b-4a57-b83c-1124c4708745"
      },
      "execution_count": 4,
      "outputs": [
        {
          "output_type": "execute_result",
          "data": {
            "text/plain": [
              "Text(0.5, 1.0, 'Error vs h for $e^x$ from 0 to 2 ')"
            ]
          },
          "metadata": {},
          "execution_count": 4
        },
        {
          "output_type": "display_data",
          "data": {
            "text/plain": [
              "<Figure size 432x288 with 1 Axes>"
            ],
            "image/png": "[encoded data removed]"
          },
          "metadata": {
            "needs_background": "light"
          }
        }
      ]
    },
    {
      "cell_type": "markdown",
      "source": [
        "One of the benefits of Python is that it has a large library of integrators that have already been developed which we can use, such as the ones in the scipy.integrate package."
      ],
      "metadata": {
        "id": "jcluvsHBeHqB"
      }
    },
    {
      "cell_type": "code",
      "source": [
        "import scipy.integrate as sci\n",
        "\n",
        "f = lambda x : x**4+3*x**3\n",
        "\n",
        "x = np.linspace(0,2,100)\n",
        "func = f(x)\n",
        "\n",
        "I = sci.trapz(func,x)\n",
        "\n",
        "exact = 2**5/5+3*2**4/4\n",
        "print(f'Numerical: {I}\\nExact: {exact}')"
      ],
      "metadata": {
        "colab": {
          "base_uri": "https://localhost:8080/"
        },
        "id": "1deN6uPBenpM",
        "outputId": "cb6a4bc6-41dd-47d7-c7dc-c1b9887990c7"
      },
      "execution_count": 8,
      "outputs": [
        {
          "output_type": "stream",
          "name": "stdout",
          "text": [
            "Numerical: 18.40231267807716\n",
            "Exact: 18.4\n"
          ]
        }
      ]
    }
  ]
}