{
  "nbformat": 4,
  "nbformat_minor": 0,
  "metadata": {
    "colab": {
      "provenance": [],
      "authorship_tag": "ABX9TyMbEnYrRrbKQoPekZEqxwNT",
      "include_colab_link": true
    },
    "kernelspec": {
      "name": "python3",
      "display_name": "Python 3"
    },
    "language_info": {
      "name": "python"
    }
  },
  "cells": [
    {
      "cell_type": "markdown",
      "metadata": {
        "id": "view-in-github",
        "colab_type": "text"
      },
      "source": [
        "<a href=\"https://colab.research.google.com/github/TSkinne4/MAT-421/blob/main/Module_A.ipynb\" target=\"_parent\"><img src=\"https://colab.research.google.com/assets/colab-badge.svg\" alt=\"Open In Colab\"/></a>"
      ]
    },
    {
      "cell_type": "markdown",
      "source": [
        "##Section 9.1: Base N and Binary\n",
        "\n",
        "While most people are comfortable using base ten to count, this is not the case for computers, which instead use base two. This comes from the fact that in  logic gates signals either take the form of a high voltage (1) or a low voltage (0). These logic gates can then be combined to create simple base-2 adders, and with some ingenuity any mathematical operation can be made. \n",
        "\n",
        "Base-2, also known as binary, works by representing numbers as a sum of powers of two. For example, say we have a number in base-2: 10010. We can find the value of this number in base-10 by multiplying each digit with its corresponding power. This yields\n",
        "\n",
        "$1\\times2^4+ 0\\times 2^3+ 0\\times2^2 + 1\\times2^1 + 0\\times2^0 = 16+2 = 18.$\n",
        "\n",
        "Confirming this in python, we get"
      ],
      "metadata": {
        "id": "C4JuzxWTncjc"
      }
    },
    {
      "cell_type": "code",
      "source": [
        "1*2**4+0*2**3+0*2**2+1*2**1+0*2**0 == 18"
      ],
      "metadata": {
        "colab": {
          "base_uri": "https://localhost:8080/"
        },
        "id": "Em8N4iG3veAE",
        "outputId": "c606c59b-b018-485f-deba-69e9abc3f88a"
      },
      "execution_count": 21,
      "outputs": [
        {
          "output_type": "execute_result",
          "data": {
            "text/plain": [
              "True"
            ]
          },
          "metadata": {},
          "execution_count": 21
        }
      ]
    },
    {
      "cell_type": "markdown",
      "source": [
        "With this, we can represent any whole number. While python has built in ways to convert between decimal and binary, we can also write our own functions to do the same. The following two functions convert from binary to decimal and from decimal to binary."
      ],
      "metadata": {
        "id": "VO-yez0Wvli_"
      }
    },
    {
      "cell_type": "code",
      "execution_count": 31,
      "metadata": {
        "colab": {
          "base_uri": "https://localhost:8080/"
        },
        "id": "3dNPgQ0FiQxa",
        "outputId": "83731d6a-8e7e-40fe-db55-fd76c1579192"
      },
      "outputs": [
        {
          "output_type": "stream",
          "name": "stdout",
          "text": [
            "[1, 1, 0, 0, 1, 0]\n",
            "50\n"
          ]
        }
      ],
      "source": [
        "def my_bin_2_dec(b):\n",
        "  total = 0\n",
        "  for i in range(len(b)):\n",
        "    total += b[i]*2**(len(b)-i-1)\n",
        "  return total\n",
        "\n",
        "def my_dec_2_bin(d):\n",
        "  result = []\n",
        "  total = d\n",
        "  while total > 0:\n",
        "    result.insert(0,total%2)\n",
        "    total = total//2\n",
        "  return result\n",
        "\n",
        "print(my_dec_2_bin(50))\n",
        "print(my_bin_2_dec([1,1, 0, 0, 1, 0]))"
      ]
    },
    {
      "cell_type": "markdown",
      "source": [
        "We can also add and multiply numbers in binary. This works much the same as in decimal, just remembering that 1+1=10. Testing two simple cases, we get\n",
        "\n",
        "$101+111=1100$\n",
        "\n",
        "$101*111=100011$.\n",
        "\n",
        "We verify that this yields the same result as decimal using the above functions"
      ],
      "metadata": {
        "id": "US4yks310t0t"
      }
    },
    {
      "cell_type": "code",
      "source": [
        "my_bin_2_dec([1,0,1])+my_bin_2_dec([1,1,1]) == my_bin_2_dec([1,1,0,0])\n"
      ],
      "metadata": {
        "colab": {
          "base_uri": "https://localhost:8080/"
        },
        "id": "N4DrlEMY1Gjs",
        "outputId": "93e3ade5-e27b-483c-b8ff-f5cbb101a63f"
      },
      "execution_count": 50,
      "outputs": [
        {
          "output_type": "execute_result",
          "data": {
            "text/plain": [
              "True"
            ]
          },
          "metadata": {},
          "execution_count": 50
        }
      ]
    },
    {
      "cell_type": "code",
      "source": [
        "my_bin_2_dec([1,0,1])*my_bin_2_dec([1,1,1]) == my_bin_2_dec([1,0,0,0,1,1])"
      ],
      "metadata": {
        "colab": {
          "base_uri": "https://localhost:8080/"
        },
        "id": "zqHTKPTUkz3Q",
        "outputId": "eccd4a57-879a-44f9-985f-d39233ef5cd6"
      },
      "execution_count": 51,
      "outputs": [
        {
          "output_type": "execute_result",
          "data": {
            "text/plain": [
              "True"
            ]
          },
          "metadata": {},
          "execution_count": 51
        }
      ]
    },
    {
      "cell_type": "markdown",
      "source": [
        "##Section 9.2: Floating Point Numbers\n",
        "\n",
        "One of the issues that we run into with binary is representing decimals. With 64 bits, we can represent $2^{64}$ numbers."
      ],
      "metadata": {
        "id": "b4WKK46t77bG"
      }
    },
    {
      "cell_type": "code",
      "source": [
        "2**64"
      ],
      "metadata": {
        "colab": {
          "base_uri": "https://localhost:8080/"
        },
        "id": "GApzpQoh8ciO",
        "outputId": "69cc8cf2-c88e-4717-e11e-7977a1261412"
      },
      "execution_count": 52,
      "outputs": [
        {
          "output_type": "execute_result",
          "data": {
            "text/plain": [
              "18446744073709551616"
            ]
          },
          "metadata": {},
          "execution_count": 52
        }
      ]
    },
    {
      "cell_type": "markdown",
      "source": [
        "Note that while this appers to be a large number, we run into issues whenever we want to include more than just positive whole numbers. Thus, computer scientists had to create different schemes to represent decimals and negative numbers. The scheme used today is floating point numbers. These numbers work similarly to scientific notation:\n",
        "\n",
        "$n=(-1)^s2^{e-1023}(1+f)$\n",
        "\n",
        "In this, s stores the sign and is given one bit, f is the fraction that describes the number abd is given 52 bits, and e is the power and is given 11 bits. This scheme allows us to store decemils efficiently. \n",
        "\n",
        "Note that while we can now store much more numbers, we still have only a finite amount of memory. Because of this, we are restricted in the numbers we can to represent. To deal with this, computers store values that are unrepresentable using floating point numbers to the nearest representable number. We can check how big this gap is using the numpy spacing function:"
      ],
      "metadata": {
        "id": "9Id5yQb68naq"
      }
    },
    {
      "cell_type": "code",
      "source": [
        "import numpy as np\n",
        "\n",
        "np.spacing(1)"
      ],
      "metadata": {
        "colab": {
          "base_uri": "https://localhost:8080/"
        },
        "id": "FEAmiTM_GYEB",
        "outputId": "4f5d4a77-6770-4015-c476-5fd761ad8f70"
      },
      "execution_count": 54,
      "outputs": [
        {
          "output_type": "execute_result",
          "data": {
            "text/plain": [
              "2.220446049250313e-16"
            ]
          },
          "metadata": {},
          "execution_count": 54
        }
      ]
    },
    {
      "cell_type": "markdown",
      "source": [
        "The effect of this spacing is that if we add a number smaller than the gap, we will get the same number"
      ],
      "metadata": {
        "id": "VEYzhoT2JR7X"
      }
    },
    {
      "cell_type": "code",
      "source": [
        "(1+np.spacing(1)/2) == 1"
      ],
      "metadata": {
        "colab": {
          "base_uri": "https://localhost:8080/"
        },
        "id": "Br-H2jwJJYXx",
        "outputId": "1ebc46ee-00b4-48a2-8824-4e30c3d70854"
      },
      "execution_count": 65,
      "outputs": [
        {
          "output_type": "execute_result",
          "data": {
            "text/plain": [
              "True"
            ]
          },
          "metadata": {},
          "execution_count": 65
        }
      ]
    },
    {
      "cell_type": "markdown",
      "source": [
        "One thing to note is that the spacing depends on how large the numbers we are dealing with are. The following log-log plot shows how the spacing is related to the size of the number"
      ],
      "metadata": {
        "id": "29L-XnOlHHeX"
      }
    },
    {
      "cell_type": "code",
      "source": [
        "import matplotlib.pyplot as plt\n",
        "\n",
        "range = np.linspace(1,1e15,100)\n",
        "space = np.spacing(range)\n",
        "\n",
        "plt.loglog(range,space)\n",
        "plt.xlabel(\"Number\")\n",
        "plt.ylabel(\"Spacing\")"
      ],
      "metadata": {
        "colab": {
          "base_uri": "https://localhost:8080/",
          "height": 300
        },
        "id": "HpuUmGyyGphK",
        "outputId": "a18ddde1-1e64-4542-e71e-a01d1472903c"
      },
      "execution_count": 64,
      "outputs": [
        {
          "output_type": "execute_result",
          "data": {
            "text/plain": [
              "Text(0, 0.5, 'Spacing')"
            ]
          },
          "metadata": {},
          "execution_count": 64
        },
        {
          "output_type": "display_data",
          "data": {
            "text/plain": [
              "<Figure size 432x288 with 1 Axes>"
            ],
            "image/png": "[encoded data removed]"
          },
          "metadata": {
            "needs_background": "light"
          }
        }
      ]
    },
    {
      "cell_type": "markdown",
      "source": [
        "There is still more complexity to floating point numbers, however. Mainly, there are reserved cases to express different numbers. The first are subnormal numbers, for which e=0. In this case, we get\n",
        "\n",
        "$n=(-1)^s2^{-1022}(0+f)$.\n",
        "\n",
        "The concept of NaN is stored with an $e=2047$ and $f\\neq0$. Converslely, positive infinity is stored with $e=2047$, $f=0$, and $s=0$, while negative infinity is stored with $e=2047$, $f=0$, and $s=1$.\n",
        "\n",
        "\n",
        "##Section 9.3: Round-Off Errors\n",
        "\n",
        "As previouslt stated, there are gaps when dealing with floating point numbers. This came from the fact that we have a finite number of bits in which to store numbers. This means that numbers for which we would need and infinite number of digits to represent, a finite number must suffice. This leads to some quirks in floating point arithmatic, such as"
      ],
      "metadata": {
        "id": "E3olMnpmHthF"
      }
    },
    {
      "cell_type": "code",
      "source": [
        "(0.0055-0.005) == 0.0005"
      ],
      "metadata": {
        "colab": {
          "base_uri": "https://localhost:8080/"
        },
        "id": "Z5XQe8jrLfPx",
        "outputId": "743814e5-86dd-423b-980d-287adc17187e"
      },
      "execution_count": 78,
      "outputs": [
        {
          "output_type": "execute_result",
          "data": {
            "text/plain": [
              "False"
            ]
          },
          "metadata": {},
          "execution_count": 78
        }
      ]
    },
    {
      "cell_type": "markdown",
      "source": [
        "Note that this is not what we would expect. One way of getting around this issue is that we could instead check that the difference between the calculated and expected answer is smaller than some tolerence, such as"
      ],
      "metadata": {
        "id": "KqxJwc3zMXPn"
      }
    },
    {
      "cell_type": "code",
      "source": [
        "print((0.0055-0.005) - 0.0005 == 0)\n",
        "print((0.0055-0.005) - 0.0005 < 1e-10)"
      ],
      "metadata": {
        "colab": {
          "base_uri": "https://localhost:8080/"
        },
        "id": "-wjmHVDRMm9M",
        "outputId": "28c84981-4634-430a-8702-1a19993ad88a"
      },
      "execution_count": 84,
      "outputs": [
        {
          "output_type": "stream",
          "name": "stdout",
          "text": [
            "False\n",
            "True\n"
          ]
        }
      ]
    },
    {
      "cell_type": "markdown",
      "source": [
        "One thing of note is that if we repeat a calculation many times, that this error will compund. This can be seen in the following plot"
      ],
      "metadata": {
        "id": "Le44FZdaOrtC"
      }
    },
    {
      "cell_type": "code",
      "source": [
        "import numpy as np\n",
        "import matplotlib.pyplot as plt\n",
        "\n",
        "iter = range(1,int(1e5),int(1e3))\n",
        "result = []\n",
        "\n",
        "for i in iter:\n",
        "  value = 1.0\n",
        "  for j in range(i):\n",
        "    value = value + 1/7\n",
        "  for j in range(i):\n",
        "    value = value - 1/7\n",
        "  result.append(np.abs(1-value))\n",
        "\n",
        "\n",
        "\n",
        "\n",
        "\n",
        "plt.loglog(iter,result)\n",
        "print(value)\n",
        "\n",
        "value == 1"
      ],
      "metadata": {
        "colab": {
          "base_uri": "https://localhost:8080/",
          "height": 304
        },
        "id": "TdtPGR3kVm3_",
        "outputId": "c9a8e4e6-21f3-42c5-c876-de479c96e8fa"
      },
      "execution_count": 33,
      "outputs": [
        {
          "output_type": "stream",
          "name": "stdout",
          "text": [
            "0.9999999999996527\n"
          ]
        },
        {
          "output_type": "execute_result",
          "data": {
            "text/plain": [
              "False"
            ]
          },
          "metadata": {},
          "execution_count": 33
        },
        {
          "output_type": "display_data",
          "data": {
            "text/plain": [
              "<Figure size 432x288 with 1 Axes>"
            ],
            "image/png": "[encoded data removed]"
          },
          "metadata": {
            "needs_background": "light"
          }
        }
      ]
    },
    {
      "cell_type": "markdown",
      "source": [
        "We have thus seen how computers and humans differ in the way we write numbers. This is something that we must keep in mind while writing our programs, as while it will usually not be too large, we see that by compounding enough times, the error can begin to grow."
      ],
      "metadata": {
        "id": "d5c3cv2R4D7s"
      }
    }
  ]
}