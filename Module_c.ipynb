{
  "nbformat": 4,
  "nbformat_minor": 0,
  "metadata": {
    "colab": {
      "provenance": [],
      "authorship_tag": "ABX9TyOoENEhJKTjAjKCE7lNukPs",
      "include_colab_link": true
    },
    "kernelspec": {
      "name": "python3",
      "display_name": "Python 3"
    },
    "language_info": {
      "name": "python"
    }
  },
  "cells": [
    {
      "cell_type": "markdown",
      "metadata": {
        "id": "view-in-github",
        "colab_type": "text"
      },
      "source": [
        "<a href=\"https://colab.research.google.com/github/TSkinne4/MAT-421/blob/main/Module_c.ipynb\" target=\"_parent\"><img src=\"https://colab.research.google.com/assets/colab-badge.svg\" alt=\"Open In Colab\"/></a>"
      ]
    },
    {
      "cell_type": "markdown",
      "source": [
        "##Section 19.1 : Root Finding Problem Statement\n",
        "\n",
        "Often when we are analyzing functions, we are interested in its roots. This can be for a variety of reasons, such as finding when two function are equal or when maximizing a function, and it is often useful, if not necessary, to do this numericaly.\n",
        "\n",
        "We will denote a root as $x_r$. Note that one complication that we can see is that some functions do not have roots, for example, if we try to find the root of \n",
        "$$f(x)=e^x,$$\n",
        "we get\n",
        "$$x_r=\\ln 0,$$\n",
        "which is undefined. Thus, we must account for this in our algorithms. This usually will take the form as an iteration limit.\n",
        "\n",
        "##Section 19.2: Tolerance\n",
        "\n",
        "While many functions do have exact roots than can be easily expressed with a finite number of decimal points, there are some function for which this is not the case. Note that \n",
        "$$f(x)=\\cos x$$\n",
        "has a root\n",
        "$$x_r=\\frac{\\pi}{2}.$$\n",
        "While we can easily find and represent this root by hand, a computer would ideally have to store an infinite number of decimal points to properly represent it. Thus, we instead only care that the root is within some defined tolerance. We say that a root is within a tolerence, denoted $\\text{tol},$ when\n",
        "$\\left|f(x)\\right|\\leq \\text{tol}.$\n",
        "\n",
        "As well, when we are finding roots and obtain $x_i$ as a guess, we can also use $\\left|x_{i+1}-x_i\\right|$ as another form of error as the differences between guesses will decrease as we converge to a root.\n",
        "\n",
        "\n",
        "##Section 19.3: Bisection Method\n",
        "\n",
        "The bisection method is based on the Intermediate Value Theorem, which states that when when $\\text{sign}(f(a))\\neq\\text{sign}(f(b))$, then if $f(x)$ is continous on the interval $a<x<b$ there exists some $a<c<b$ such that $f(x)$. The basic logic of the algorithm is as follows\n",
        "1. Obtain two bounds for the root a and b such that $\\text{sign}(f(a))\\neq\\text{sign}(f(b))$\n",
        "2. Find the midpoint of the bounds, c=(a+b)/2, which is now the guess\n",
        "3. If $\\left|f(c)\\right|<\\text{tol}$, exit as this is the root\n",
        "4. If not, replace a or b with c depending on if $\\text{sign}(f(a))=\\text{sign}(f(c))$ or $\\text{sign}(f(b))=\\text{sign}(f(c))$\n",
        "5. Start again at step 2.\n",
        "\n",
        "The below code defines a function that is then used to find the roots of a funtion"
      ],
      "metadata": {
        "id": "qyRWXVCRMlM6"
      }
    },
    {
      "cell_type": "code",
      "source": [
        "import numpy as np\n",
        "\n",
        "def find_root(f,a,b,tol,max_iter):\n",
        "  n = 0\n",
        "  while max_iter >= n: \n",
        "    c = (a+b)/2\n",
        "    if np.abs(f(c))<=tol:\n",
        "      return c\n",
        "    if f(c)*f(b)>0:\n",
        "      b = c\n",
        "    else:\n",
        "      a = c\n",
        "    n = n + 1\n",
        "  print(\"Failed to find root\")\n",
        "  return c\n",
        "\n",
        "m_iter = 1e6\n",
        "tol = 1e-5\n",
        "\n",
        "f = lambda x : np.cos(x)\n",
        "g = lambda x : (x-1)*(x+1)\n",
        "h = lambda x: 1-1/x\n",
        "\n",
        "r_f = find_root(f,0,3,tol,m_iter)\n",
        "r_g = find_root(g,0,2,tol,m_iter)\n",
        "r_h = find_root(h,0.5,3,tol,m_iter)\n",
        "\n",
        "print(f\"Root for f(x) = cos(x) found at x={r_f}\")\n",
        "print(f\"Root for g(x) = x^2-1 found at x={r_g}\")\n",
        "print(f\"Root for h(x) = 1-1/x found at x={r_h}\")"
      ],
      "metadata": {
        "colab": {
          "base_uri": "https://localhost:8080/"
        },
        "id": "ALUOd8PhSdPK",
        "outputId": "21a23442-add6-4376-db2e-9964040c319d"
      },
      "execution_count": null,
      "outputs": [
        {
          "output_type": "stream",
          "name": "stdout",
          "text": [
            "Root for f(x) = cos(x) found at x=1.5707931518554688\n",
            "Root for g(x) = x^2-1 found at x=1.0\n",
            "Root for h(x) = 1-1/x found at x=0.9999923706054688\n"
          ]
        }
      ]
    },
    {
      "cell_type": "markdown",
      "source": [
        "##Section 19.4: Newton-Rhapson Method\n",
        "\n",
        "Suppose that we have some smooth, continous function $f(x)$. We know that we can represent it as a Taylor series about some point $x_0$ as follows\n",
        "  $$f(x)=f(x_0)+(x-x_0)f'(x_0)+\\frac{(x-x_0)^2}{2!}f''(x)+...$$\n",
        "Suppose that $x_0$ is our current guess for the root. We will be choosing a new guess sufficiently close to $x_0$ such that it suffices to approximate\n",
        "$$f(x)\\approx f(x_0)+(x-x_0)f'(x_0).$$\n",
        "We desire for our next guess, $x_1$, that $f(x_1)=0$, that is, that\n",
        "$$0=f(x_0)+(x_1-x_0)f'(x_0).$$\n",
        "With some algebra, we can see that we should therefore guess that\n",
        "$$x_1 = x_0-\\frac{f(x_0)}{f'(x_0)}.$$\n",
        "\n",
        "There are a few limitations to this method. One is that we must know the derivative of the function. As well, there can be issues when $f'(x)\\approx 0$, we can see that our correction on our guess can be rather large, which can have unintended consequences. We will now see some code that implements this method and tests it for the functions used in the previous section"
      ],
      "metadata": {
        "id": "9XJkOMT0VrDw"
      }
    },
    {
      "cell_type": "code",
      "source": [
        "import numpy as np\n",
        "\n",
        "def find_root(f,fp,a,tol,max_iter):\n",
        "  n = 0\n",
        "  while max_iter >= n: \n",
        "    b = a-f(a)/fp(a)\n",
        "    if np.abs(f(b))<=tol:\n",
        "      return b\n",
        "    a = b\n",
        "    n = n + 1\n",
        "  print(\"Failed to find root\")\n",
        "  return b\n",
        "\n",
        "m_iter = 1e6\n",
        "tol = 1e-5\n",
        "\n",
        "f = lambda x : np.cos(x)\n",
        "fp = lambda x : -np.sin(x)\n",
        "g = lambda x : (x-1)*(x+1)\n",
        "gp = lambda x: 2*x\n",
        "h = lambda x: 1-1/x\n",
        "hp = lambda x: 1/(x**2)\n",
        "\n",
        "r_f = find_root(f,fp,1,tol,m_iter)\n",
        "r_g = find_root(g,gp,1.25,tol,m_iter)\n",
        "r_h = find_root(h,hp,0.5,tol,m_iter)\n",
        "\n",
        "print(f\"Root for f(x) = cos(x) found at x={r_f}\")\n",
        "print(f\"Root for g(x) = x^2-1 found at x={r_g}\")\n",
        "print(f\"Root for h(x) = 1-1/x found at x={r_h}\")"
      ],
      "metadata": {
        "colab": {
          "base_uri": "https://localhost:8080/"
        },
        "id": "KE-vry33ZK1h",
        "outputId": "85dadac6-88cb-4a81-85a9-87820992b9c2"
      },
      "execution_count": null,
      "outputs": [
        {
          "output_type": "stream",
          "name": "stdout",
          "text": [
            "Root for f(x) = cos(x) found at x=1.5707963267954879\n",
            "Root for g(x) = x^2-1 found at x=1.0000000464611474\n",
            "Root for h(x) = 1-1/x found at x=0.9999999997671694\n"
          ]
        }
      ]
    },
    {
      "cell_type": "markdown",
      "source": [
        "##Section 19.5: Roof Finding in Python\n",
        "\n",
        "Note that scipy has buit in root findint that "
      ],
      "metadata": {
        "id": "DH9BEzRua7aD"
      }
    },
    {
      "cell_type": "code",
      "source": [
        "import numpy as np\n",
        "from scipy.optimize import fsolve\n",
        "\n",
        "\n",
        "\n",
        "f = lambda x : np.cos(x)\n",
        "g = lambda x : (x-1)*(x+1)\n",
        "h = lambda x: 1-(1/x)\n",
        "\n",
        "r_f = fsolve(f,[1,6])\n",
        "r_g = fsolve(g,[-1.25,1.25])\n",
        "r_h = fsolve(h,[3])\n",
        "\n",
        "print(f\"Root for f(x) = cos(x) found at x={r_f}\")\n",
        "print(f\"Root for g(x) = x^2-1 found at x={r_g}\")\n",
        "print(f\"Root for h(x) = 1-1/x found at x={r_h}\")"
      ],
      "metadata": {
        "colab": {
          "base_uri": "https://localhost:8080/"
        },
        "id": "e_5aBRXObS4L",
        "outputId": "e5d4f785-905d-4658-c791-b04435503e40"
      },
      "execution_count": null,
      "outputs": [
        {
          "output_type": "stream",
          "name": "stdout",
          "text": [
            "Root for f(x) = cos(x) found at x=[1.57079633 4.71238898]\n",
            "Root for g(x) = x^2-1 found at x=[-1.  1.]\n",
            "Root for h(x) = 1-1/x found at x=[1.]\n"
          ]
        }
      ]
    },
    {
      "cell_type": "markdown",
      "source": [
        "Note that one benifit of this implementation is that it can take in multiple guesses and returns multiple roots"
      ],
      "metadata": {
        "id": "bmAoH0oGcDaU"
      }
    }
  ]
}