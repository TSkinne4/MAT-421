{
  "nbformat": 4,
  "nbformat_minor": 0,
  "metadata": {
    "colab": {
      "provenance": [],
      "authorship_tag": "ABX9TyOEsAu3wvZ6oS2ZUuuG7Ccy",
      "include_colab_link": true
    },
    "kernelspec": {
      "name": "python3",
      "display_name": "Python 3"
    },
    "language_info": {
      "name": "python"
    }
  },
  "cells": [
    {
      "cell_type": "markdown",
      "metadata": {
        "id": "view-in-github",
        "colab_type": "text"
      },
      "source": [
        "<a href=\"https://colab.research.google.com/github/TSkinne4/MAT-421/blob/main/Module_d.ipynb\" target=\"_parent\"><img src=\"https://colab.research.google.com/assets/colab-badge.svg\" alt=\"Open In Colab\"/></a>"
      ]
    },
    {
      "cell_type": "code",
      "execution_count": null,
      "metadata": {
        "id": "i14wbbamHAbO"
      },
      "outputs": [],
      "source": []
    },
    {
      "cell_type": "code",
      "source": [],
      "metadata": {
        "id": "ULp81GFGWEFg"
      },
      "execution_count": null,
      "outputs": []
    },
    {
      "cell_type": "markdown",
      "source": [
        "# Section 1.1: Introduction\n",
        "\n",
        "Linear algebra shows ujp in a variety of applications. This includes data science, physics, machine, and economics. Thus, understanding the basics of linear algebra is an important skill to have.\n",
        "\n",
        "# Section 1.2: Elements of Linear Algebra\n",
        "## Linear Spaces\n",
        "\n",
        "Linear spaces are defined as a closed set of vectors. That is, for any two elements in the space, their sum is also in the space, and that any element multiplied by a scalar is also in the space. This can be rewritten as for $\\mathbf{u}_1,\\mathbf{u}_2\\in U$ and $\\alpha\\in\\mathbb{R}$,\n",
        "$$\\mathbf{u}_1+\\mathbf{u}_2\\in U$$\n",
        "and\n",
        "$$\\alpha\\mathbf{u}_1\\in U$$\n",
        "\n",
        "This also leads to the concept of linear subspaces. For higher order spaces, there are lower order subspaces that can be contained within them. For example, in three dimensional space defined by the x, y, and z axes, the x and y plane form a two dimensional subspace of the linear space. Likewise, each individual vector also form a one dimensional subspace by themselves.\n",
        "\n",
        "### Span\n",
        "The span of a set of vectors is the space defined by the linear combinations of these vectors. For example $\\hat{x},\\hat{y}$, and $\\hat{z}$ span $\\mathbb{R}^3$ as all vectors in this space can be written as a linear combination of the basis vectors. For a collection of vectors, $a_1,a_2,...,a_m$, we denote the space spanned by them as $\\text{span}(a_1,a_2,...,a_m)$. This can be written\n",
        "$$\\text{span}(a_1,a_2,...,a_m)=\\sum_{i=1}^m\\beta_ia_i,$$\n",
        "where $\\beta_i\\in\\mathbb{R}$ for $i=1,2,...,m$.\n",
        "\n",
        "The following function takes a list of coefficients and vectors and then returns the linear combination of the vectors with the coefficients. For any list of vectors, the span can be observed by all of the combinations of the coefficients."
      ],
      "metadata": {
        "id": "ISsB0t_UHDUF"
      }
    },
    {
      "cell_type": "code",
      "source": [
        "import numpy as np\n",
        "\n",
        "def span(beta,a):\n",
        "  #Beta is a list of coefficients, a is a list of vectors\n",
        "  result = np.zeros_like(a[0])\n",
        "  for betai, ai in zip(beta,a):\n",
        "    result += betai*ai\n",
        "  return result\n",
        "\n",
        "beta = [1,4,5]\n",
        "a = np.array([[1,0,3],[1,2,1],[1,5,1]])\n",
        "print(\"Hello\")\n",
        "print(span(beta,a))"
      ],
      "metadata": {
        "colab": {
          "base_uri": "https://localhost:8080/"
        },
        "id": "qlH_MvpcimS1",
        "outputId": "4d6eb49d-4b3d-440f-8594-9280919b154d"
      },
      "execution_count": 16,
      "outputs": [
        {
          "output_type": "stream",
          "name": "stdout",
          "text": [
            "Hello\n",
            "[10 33 12]\n"
          ]
        }
      ]
    },
    {
      "cell_type": "markdown",
      "source": [
        "##Column Space\n",
        "When dealing with matrices, we often care about the column space of the matrix. This is the space spanned by the columns of a matrix. For a matrix $A$, it is denoted $\\text{col}(A)$. For a $n\\times m$ matrix, this space will be n-dimensional. If $a_1,a_2,...,a_m$ are the columns of $A$, then\n",
        "  $$\\text{col}(A)=\\text{span}(a_1,a_2,...,a_m)$$\n",
        "\n",
        "## Linear Independance and Dimension\n",
        "A collection of vectors $a_1,a_2,...,a_m$ is linearly independant if they cannot be written as a linear combination of the other vectors in the collection. That is, for some element $a_k$,\n",
        "$$a_k\\notin\\text{span}(a_1,a_2,...,a_{k-1},a_{k+1},...,a_m).$$\n",
        "This can also be written as \n",
        "$$\\sum_{i=1}^m \\beta_ia_i=0\\implies \\beta_i=0 \\text{ for all } i=1,2,...,m$$\n",
        "This works as suppose we have a collection of indicies $J=\\{j_1,j_2,...,j_k\\}$ such that\n",
        "$$\\beta_{j_1}\\mathbf{a}_{j_1}+\\beta_{j_2}\\mathbf{a}_{j_2}+...+\\beta_{j_k}\\mathbf{a}_{j_k} = \\mathbf{0}$$\n",
        "where $\\beta_{j}\\neq0$ for $j\\in J$. Thus, we can see that we can write\n",
        "$$\\mathbf{a}_{j_1}=-\\frac{\\beta_{j_2}}{\\beta_{j_1}}\\mathbf{a}_{j_2}-...-\\frac{\\beta_{j_k}}{\\beta_{j_1}}\\mathbf{a}_{j_k}.$$\n",
        "Thus, we can see that as we can write mathbf$\\mathbf{a}_{j_1}$ as a combination of other vectors in the set, it is note linearly independant.\n",
        "\n",
        "We have thus far mentioned the concept of dimension without rigourusly defining it. Dimension is the number of linearly independant vectors needed to define a subspace. One thing to note is that for $n$-dimentional space, we need exactly $n$ linearly independant vectors to dedefine it. Too few and we do not have enough, too many and one will not be linearly independant.\n",
        "\n",
        "## Orthogonality\n",
        "\n",
        "Two vectors $\\mathbf{a}$ and $\\mathbf{b}$ are orthogonal if\n",
        "$$\\mathbf{a}\\cdot\\mathbf{b}=0.$$\n",
        "A vector is normal if\n",
        "$$\\mathbf{a}\\cdot\\mathbf{a}=1.$$\n",
        "\n",
        "The following code shows two simple functions that can test for orthogonality and normality."
      ],
      "metadata": {
        "id": "ISzgGnPuiklx"
      }
    },
    {
      "cell_type": "code",
      "source": [
        "def is_orthogonal(a,b,tol):\n",
        "  r = a*b\n",
        "  r = np.sum(r)\n",
        "  if r < tol:\n",
        "    return True\n",
        "  return False\n",
        "\n",
        "def is_normal(a,tol):\n",
        "  #a is a vector and tol is a tolerence\n",
        "  if np.sum(a*a)- 1 < tol:\n",
        "    return True\n",
        "  return False\n",
        "\n",
        "a = np.array([1,0,2])\n",
        "b = np.array([0,1,0])\n",
        "print(a,b, \"are orthogonal? :\",is_orthogonal(a,b,1e-10))\n",
        "a = np.array([1,0,1])\n",
        "b = np.array([0,1,1])\n",
        "print(a,b, \"are orthogonal? :\",is_orthogonal(a,b,1e-10))\n",
        "a = np.array([0,1,1])\n",
        "b = np.array([0,1,1])/np.sqrt(2)\n",
        "print(a, \"is Normal? :\",is_normal(a,1e-10))\n",
        "print(b, \"is Normal? :\",is_normal(b,1e-10))"
      ],
      "metadata": {
        "colab": {
          "base_uri": "https://localhost:8080/"
        },
        "id": "qXSwKFLZkUH_",
        "outputId": "f6bde7fb-ebb9-4737-a363-218d22154f4c"
      },
      "execution_count": 28,
      "outputs": [
        {
          "output_type": "stream",
          "name": "stdout",
          "text": [
            "[1 0 2] [0 1 0] are orthogonal? : True\n",
            "[1 0 1] [0 1 1] are orthogonal? : False\n",
            "[0 1 1] is Normal? : False\n",
            "[0.         0.70710678 0.70710678] is Normal? : True\n"
          ]
        }
      ]
    },
    {
      "cell_type": "markdown",
      "source": [
        "###Orthonormal Bases\n",
        "\n",
        "When dealing in many different applications, it is useful to have an orthonormal bases to work with. Orthonormality means that each vector is orthogonal to eachother and normalized with itself. This is the case with $\\hat{\\mathbf{x}}$, $\\hat{\\mathbf{y}}$, and $\\hat{\\mathbf{z}}$ when dealing with three dimensional space.  An important fact is that orthonormal sets of vectors are also all linearly independant. \n",
        "\n",
        "Now, suppose that we have a vector $\\mathbf{u}$ that we want to write as a linear combination of basis vectors, we thus get that\n",
        "  $$\\mathbf{u}=\\sum_{j=1}^m(\\mathbf{u}\\cdot\\mathbf{q}_j)\\mathbf{q}_j$$\n",
        "\n"
      ],
      "metadata": {
        "id": "VqYOdYw5kNnp"
      }
    },
    {
      "cell_type": "code",
      "source": [
        "def is_orthonormal(a,b,tol):\n",
        "  if is_normal(a,tol) and is_normal(b,tol) and is_orthogonal(a,b,tol):\n",
        "    return True\n",
        "  return False\n",
        "\n",
        "a = np.array([1,0,2])\n",
        "b = np.array([0,1,0])\n",
        "print(a,b, \"are orthonormal? :\",is_orthonormal(a,b,1e-10))\n",
        "a = np.array([1,0,1])/np.sqrt(2)\n",
        "b = np.array([0,1,0])\n",
        "print(a,b, \"are orthonormal? :\",is_orthonormal(a,b,1e-10))\n"
      ],
      "metadata": {
        "colab": {
          "base_uri": "https://localhost:8080/"
        },
        "id": "_B6sfxrPo5PX",
        "outputId": "70907e92-c780-4ab8-ece0-1587fb1e2e5e"
      },
      "execution_count": 30,
      "outputs": [
        {
          "output_type": "stream",
          "name": "stdout",
          "text": [
            "[1 0 2] [0 1 0] are orthonormal? : False\n",
            "[0.70710678 0.         0.70710678] [0 1 0] are orthonormal? : True\n"
          ]
        }
      ]
    },
    {
      "cell_type": "markdown",
      "source": [
        "### Gram-Schmidt Process\n",
        "\n",
        "In the Gram-Schimdt process we find a set of orthonormal basis vectors for the space $\\text{Span}(a_1,...,a_m)$, where $a_1,...,a_m$ are linearly independant. To find these, we get that\n",
        "  $$\\mathbf{b}_i=\\mathbf{a}_i-\\sum_{j=1}^{i-1}(\\mathbf{a}_i\\cdot\\mathbf{q}_j)\\mathbf{q}_j$$\n",
        "and then\n",
        "  $$\\mathbf{q}_i=\\frac{\\mathbf{b}_i}{||\\mathbf{b}_i||}$$\n",
        "\n"
      ],
      "metadata": {
        "id": "yEorWJaRozkO"
      }
    },
    {
      "cell_type": "markdown",
      "source": [
        "## Eigenvalues and Eigenvectors\n",
        "An eigenvalue $\\lambda$ and an eigenvector $\\mathbf{x}$ are such that\n",
        "  $$A\\mathbf{x}=\\lambda\\mathbf{x},$$\n",
        "where A is a square matrix. For an $n\\times n$ matrix, there are at most n distinct eigenvalues and eigenvectors. As well, thei eigenvectors will be linearly independant. \n"
      ],
      "metadata": {
        "id": "srCq05JcpchV"
      }
    },
    {
      "cell_type": "code",
      "source": [
        "import numpy.linalg as la\n",
        "\n",
        "A = np.array([[1,2],[4,5]])\n",
        "L,v = la.eig(A)\n",
        "print('Eigenvalues',L)\n",
        "print('Eigenvectors',v)"
      ],
      "metadata": {
        "colab": {
          "base_uri": "https://localhost:8080/"
        },
        "id": "xK9SuIZ2pq5D",
        "outputId": "c5b8843f-a84c-442a-de5c-e810271df63e"
      },
      "execution_count": 32,
      "outputs": [
        {
          "output_type": "stream",
          "name": "stdout",
          "text": [
            "Eigenvalues [-0.46410162  6.46410162]\n",
            "Eigenvectors [[-0.80689822 -0.34372377]\n",
            " [ 0.59069049 -0.9390708 ]]\n"
          ]
        }
      ]
    },
    {
      "cell_type": "markdown",
      "source": [
        "### Diagonalization\n",
        "$\\text{Diag}(\\lambda_1,...,\\lambda_n)$ refers to a matrix with diagonal elements $\\lambda_1,...,\\lambda_n$. Say we have a $n\\times n$ matrix A, then there will be a matrix P such that\n",
        "$$A=PDP^{-1}.$$\n",
        "Letting $\\mathbf{p}_1,...,\\mathbf{p}_n$, we can get that\n",
        "  $$A\\mathbf{p}_i=\\lambda_i\\mathbf{p}_i.$$\n",
        "If A is symmetric,\n",
        "$$A=PDP^T=PDP^{-1}.$$\n",
        "We also get that\n",
        "$$A=\\lambda_1\\mathbf{v}_1\\mathbf{v}_1^T+\\lambda_2\\mathbf{v}_2\\mathbf{v}_2^T+...+\\lambda_3\\mathbf{v}_3\\mathbf{v}_3^T$$\n",
        "\n",
        "#Linear Regression\n",
        "## QR Decomposition\n",
        "  One way in which we can decompose a matrix is QR decomposition in which\n",
        "  $$A=QR$$\n",
        "Here, Q is a matrix ontained from the Gram-Schmidt process, and R is an upper triagular matrix containing the coefficients of the linear combinations of the columns of Q that create the collumns of A. This is useful in the least square problem. The following code shows how to do this in python using the linear algebra package\n",
        "\n"
      ],
      "metadata": {
        "id": "E--vMMNOpbMf"
      }
    },
    {
      "cell_type": "code",
      "source": [
        "A = np.array([[3,1,5,3],[5,1,4,6],[9,6,1,3],[1,0,4,3]])\n",
        "q,r = la.qr(A)\n",
        "print('A:',A)\n",
        "print('Q:',q)\n",
        "print('R:',r)"
      ],
      "metadata": {
        "colab": {
          "base_uri": "https://localhost:8080/"
        },
        "id": "1urINbMwqcDX",
        "outputId": "d7c11cbc-e153-4665-f7bf-0e659d3e60d1"
      },
      "execution_count": 33,
      "outputs": [
        {
          "output_type": "stream",
          "name": "stdout",
          "text": [
            "A: [[3 1 5 3]\n",
            " [5 1 4 6]\n",
            " [9 6 1 3]\n",
            " [1 0 4 3]]\n",
            "Q: [[-0.27854301 -0.27367145  0.63352558 -0.66795439]\n",
            " [-0.46423835 -0.75846088 -0.45093742  0.0766505 ]\n",
            " [-0.83562902  0.53952372 -0.03043136  0.09855065]\n",
            " [-0.09284767 -0.24239471  0.62799261  0.73365482]]\n",
            "R: [[-10.77032961  -5.75655548  -4.45668812  -6.40648917]\n",
            " [  0.           2.20500997  -4.83225589  -4.4803926 ]\n",
            " [  0.           0.           3.84541728   0.98763595]\n",
            " [  0.           0.           0.           0.95265626]]\n"
          ]
        }
      ]
    },
    {
      "cell_type": "markdown",
      "source": [
        "##Least Square problem\n",
        "\n",
        "Let A be a $n\\times m$ matrix and $\\mathbf{b}$ be a vector with n elements. We wish to solve\n",
        "$$A\\mathbf{x}=\\mathbf{b}.$$\n",
        "We usually can just use the inverse of A, but if A is not square, then we cannot do this. Instead, we will try to estimate an $\\mathbf{x}$ that minimizes\n",
        "$$A\\mathbf{x}-\\mathbf{b}.$$\n",
        "The solution satisfies\n",
        "$$A^TA\\mathbf{x}=A^T\\mathbf{b}$$\n",
        "By using QR decomposition, we get eventually get the equation into the form\n",
        "$$R\\mathbf{x}^*=Q^T\\mathbf{b}.$$\n",
        "As R is upper triangular, this is easily and quickly solvable.\n",
        "\n",
        "##Linaer regression\n",
        "\n",
        "If we start start with points $\\{(\\mathbf{x}_i,y_i)\\}_{i=1}^n$, where $\\mathbf{x}_i=(x_{i1},x_{i2},...,x_{id})$ and we want to fit a function to it, we can use linaer regression. We desire to find coefficitents $\\beta_i$ such that\n",
        "$$\\sum_{i=1}^n(y_i-\\hat{y}_i)^2$$\n",
        "is minimized, where\n",
        "  $$\\hat{y}_i=\\beta_0+\\sum_{j=1}^d\\beta_jx_{ij}$$\n",
        "This can be formulated in terms of matricies\n",
        "  $$\\mathbf{y}=(y_1,y_2,...,y_n)$$\n",
        "  $$\\mathbf{\\beta}=(\\beta_0,\\beta_1,...,\\beta_d)$$\n",
        "  $$A=\\begin{pmatrix}1,\\mathbf{x}_1^T\\\\1,\\mathbf{x}_2^T\\\\\\cdots\\\\1,\\mathbf{x}_n^T\\end{pmatrix}$$\n",
        "\n",
        "At which point we are trying to minimize\n",
        "$$||\\mathbf{y}-A\\mathbf{\\beta}||^2,$$\n",
        "which is the same as the least squares problem"
      ],
      "metadata": {
        "id": "yEXcsf7uqbU8"
      }
    },
    {
      "cell_type": "code",
      "source": [
        "id}xR"
      ],
      "metadata": {
        "id": "lfHuPqGZUk9_"
      },
      "execution_count": null,
      "outputs": []
    }
  ]
}