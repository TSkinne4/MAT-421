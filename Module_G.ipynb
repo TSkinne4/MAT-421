{
  "nbformat": 4,
  "nbformat_minor": 0,
  "metadata": {
    "colab": {
      "provenance": [],
      "authorship_tag": "ABX9TyNaTecEP1ObhLrqysB9ZJ2A",
      "include_colab_link": true
    },
    "kernelspec": {
      "name": "python3",
      "display_name": "Python 3"
    },
    "language_info": {
      "name": "python"
    }
  },
  "cells": [
    {
      "cell_type": "markdown",
      "metadata": {
        "id": "view-in-github",
        "colab_type": "text"
      },
      "source": [
        "<a href=\"https://colab.research.google.com/github/TSkinne4/MAT-421/blob/main/Module_G.ipynb\" target=\"_parent\"><img src=\"https://colab.research.google.com/assets/colab-badge.svg\" alt=\"Open In Colab\"/></a>"
      ]
    },
    {
      "cell_type": "markdown",
      "source": [
        "#Problem Statement\n",
        "Suppose that we want to find the integral of a function $f(x)$ on an interval $[a,b]$, that is, find the value of $\\int_a^b f(x) dx$. To do this, we will use the following concepts\n",
        "\n",
        "**Discretization of the Interval**\n",
        "\n",
        "We will break up the interval into $n$ sub intervals of spacing $h=\\frac{b-a}{h}$. \n",
        "\n",
        "**Points**\n",
        "\n",
        "We observe the function at $n+1$, which we notate $x_0,x_1,...,x_{n-1},x_n$, where $x_0=a$ and $x_n=b$.\n",
        "\n",
        "**Subinterval**\n",
        "\n",
        "The intervals between spaces, notated $[x_i,x_{i+1}]$.\n",
        "\n",
        "#Riemann Integral\n",
        "\n",
        "Recall that one of the definitions of an integral is\n",
        "  $$\\int_a^b f(x) dx = \\lim_{n→0}\\sum_{i=0}^{n-1}\\frac{b-a}{n}f(x_i)=\\lim_{n→0}\\sum_{i=1}^{n}\\frac{b-a}{n}f(x_i).$$\n",
        "Note that we can thus approximate the integral that we wish to find by using a finite number points instead of an infinite number of points. This means that we can approximate an integral as either of the following\n",
        "$$\\begin{align*}\n",
        "\\int_a^b f(x) dx &= \\lim_{n→0}\\sum_{i=0}^{n-1}\\frac{b-a}{n}f(x_i)\\\\\n",
        "\\int_a^b f(x) dx&=\\lim_{n→0}\\sum_{i=1}^{n}\\frac{b-a}{n}f(x_i)\n",
        "\\end{align*}.$$\n",
        "These two forms are the left and right Reimann Sums, repsectively. \n",
        "\n",
        "To analyze the accuracy of this scheme, we will use the taylor expansion of $f(x)$ about a point $x_i$,\n",
        "$$f(x)= f(x_i) + f'(x_i)(x-x_i)+....$$\n",
        "Observing a subinterval $[x_i,x_{i+1}]$, we see that we get that\n",
        "  $$\n",
        "  \\begin{align*}\n",
        "  \\int_{x_i}^{x_{i+1}}f(x)dx &=\\int_{x_i}^{x_{i+1}}\\left(f(x_i) + f'(x_i)(x-x_i)+...\\right)dx \\\\\n",
        "  &= hf(x_i) + \\frac{h^2}{2}f'(x_i)+\\mathcal{O}\\left(h^3\\right)\\\\\n",
        "  &= h f(x_i) + \\mathcal{O}\\left(h^2\\right)\n",
        "  \\end{align*}$$\n",
        "Thus, we get that our error over a single subinterval is $\\mathcal{O}(h^2)$\n",
        "Summing over $n$ subintervals we and recalling that $n = \\frac{b-a}{h}$, we get that for the whole interval we get an error $\\mathcal{O}(h)$.\n",
        "\n",
        "## Midpoint rule\n",
        "For the midpoins rule, we define a new set of points where $y_{i} = \\frac{x_{i+1}+x_{i}}{2}$. Using the Taylor Series about $y_i$, \n",
        "$$f(x) = f(y_i)+f'(y_i)(x-y_i)+\\frac{f''(y_i)(x-y_i)^2}{2!}+...$$\n",
        "From this, we see that\n",
        "  $$\\begin{align*}\n",
        "    \\int_{x_i}^{x_{i+1}}f(x)dx &= \\int_{x_i}^{x_{i+1}}\\left(f(y_i)+f'(y_i)(x-y_i)+\\frac{f''(y_i)(x-y_i)^2}{2!}+...\\right)dx\\\\\n",
        "    &= \\int_{x_i}^{x_{i+1}}f(y_i)dx+\\int_{x_i}^{x_{i+1}}f'(y_i)(x-y_i)dx+\\int_{x_i}^{x_{i+1}}\\frac{f''(y_i)(x-y_i)^2}{2!}dx+...\\\\\n",
        "    &= hf(y_i) + \\mathcal{O}(h^3)\n",
        "  \\end{align*}$$\n",
        "  Thus, we get that over the entire interval that the error is $\\mathcal{O}(h^2)$. Note the benifit that we have more accuracy for the same amount of calcuations, but that we also may not know the value of the function between points.\n",
        "\n",
        "The following code shows how the error changes when analyzing\n",
        "$$\\int_0^1e^xdx$$\n",
        "as we vary h."
      ],
      "metadata": {
        "id": "k5q28tuQwaaH"
      }
    },
    {
      "cell_type": "code",
      "source": [
        "import numpy as np\n",
        "import matplotlib.pyplot as plt\n",
        "\n",
        "def compute_errors(n,a,b):\n",
        "  h = (b-a)/n\n",
        "  intervals = np.linspace(a,b,n+1)\n",
        "  midpoints = (intervals[1:]+intervals[:n])/2\n",
        "\n",
        "  f_interval = np.exp(intervals)\n",
        "  f_mid = np.exp(midpoints)\n",
        "\n",
        "  left_riemann = h*np.sum(f_interval[:n])\n",
        "  midpoint = h*np.sum(f_mid)\n",
        "  right_riemann = h*np.sum(f_interval[1:])\n",
        "\n",
        "  exact = np.exp(1)-np.exp(0)\n",
        "  return h,np.abs(exact-left_riemann), np.abs(exact-midpoint),np.abs(exact-right_riemann)\n",
        "\n",
        "h_list = []\n",
        "l_error = []\n",
        "m_error = []\n",
        "r_error = []\n",
        "for i in range(1,36):\n",
        "  h,l,m,r = compute_errors(i,0,1)\n",
        "  h_list.append(h)\n",
        "  l_error.append(l)\n",
        "  m_error.append(m)\n",
        "  r_error.append(r)\n",
        "\n",
        "plt.semilogy(h_list,l_error,label = 'Left')\n",
        "plt.semilogy(h_list,m_error,label = 'Mid')\n",
        "plt.semilogy(h_list,r_error,label = 'Right')\n",
        "plt.legend()"
      ],
      "metadata": {
        "colab": {
          "base_uri": "https://localhost:8080/",
          "height": 282
        },
        "id": "e6FlOtXJNsF7",
        "outputId": "a4b6af92-e0ac-4435-b9ec-adbfcf31179e"
      },
      "execution_count": 12,
      "outputs": [
        {
          "output_type": "execute_result",
          "data": {
            "text/plain": [
              "<matplotlib.legend.Legend at 0x7fcd950d3a30>"
            ]
          },
          "metadata": {},
          "execution_count": 12
        },
        {
          "output_type": "display_data",
          "data": {
            "text/plain": [
              "<Figure size 432x288 with 1 Axes>"
            ],
            "image/png": "[encoded data removed]"
          },
          "metadata": {
            "needs_background": "light"
          }
        }
      ]
    },
    {
      "cell_type": "markdown",
      "source": [
        "#Trapezoid Rule\n",
        "\n",
        "The trapezoid rule is similar to the Riemann sums that we observed before. The key difference, however, is that instead of appriximating the value of a function on an interval by a single points, we instead approximate the value using a linear function. That is, we assume\n",
        "  $$\\int_a^bf(x)dx\\approx \\sum_{i=0}^{n-1}h\\frac{f(x_i)+f(x_{i+1})}{2}$$\n",
        "This introduced extra computations, however, so by regrouping we can instead write\n",
        "  $$\\int_a^bf(x)dx\\approx \\frac{h}{2}\\left(f(x_0)+2\\sum_{i=1}^{n-1}f(x_i)+f(x_n)\\right)$$\n",
        "Recalling the Taylor series about the midpoint, we can se that we can write\n",
        "$$f(x_i) = f(y_i) - \\frac{hf'(y_i)}{2}+\\frac{h^2f''(y_i)}{8}-...$$\n",
        "and \n",
        "$$f(x_{i+1})=f(y_i) + \\frac{hf'(y_i)}{2}+\\frac{h^2f''(x_i)}{8}+...$$\n",
        "We thus find that\n",
        "$$\\frac{f(x_{i+1})+f(x_i)}{2}=f(y_i)+\\mathcal{O}(h^2)$$\n",
        "from which we find\n",
        "$$f(y_i)=\\frac{f(x_{i+1})+f(x_i)}{2}+\\mathcal{O}(h^2)$$\n",
        "Recalling the integral of the midpoint rule, we get that\n",
        "  $$\\begin{align*}\n",
        "  \\int_{x_i}^{x_{i+1}}f(x) dx &= hf(y_i)+\\mathcal{O}(h^3)\\\\\n",
        "  &=  h\\left(\\frac{f(x_{i+1})+f(x_i)}{2}+\\mathcal{O}(h^2)\\right)+\\mathcal{O}(h^3)\\\\\n",
        "  &= h\\left(\\frac{f(x_{i+1})+f(x_i)}{2}\\right)+\\mathcal{O}(h^3)\n",
        "  \\end{align*}$$\n",
        "Thus, we can see that we have an error $\\mathcal{O}(h^3)$ over each subinterval, and so over the whole interval we have that the error is $\\mathcal{O}(h^2)$\n",
        "\n",
        "The following code compares the trapezoidal rule to the midpoint rule"
      ],
      "metadata": {
        "id": "emezzZ-BRX-l"
      }
    },
    {
      "cell_type": "code",
      "source": [
        "def compute_errors(n,a,b):\n",
        "  h = (b-a)/n\n",
        "  intervals = np.linspace(a,b,n+1)\n",
        "  midpoints = (intervals[1:]+intervals[:n])/2\n",
        "\n",
        "  f_interval = np.exp(intervals)\n",
        "  f_mid = np.exp(midpoints)\n",
        "\n",
        "  \n",
        "  midpoint = h*np.sum(f_mid)\n",
        "  trap = h/2*(f_interval[0]+f_interval[-1]+2*np.sum(f_interval[1:-1]))\n",
        "\n",
        "  exact = np.exp(1)-np.exp(0)\n",
        "  return h, np.abs(exact-midpoint), np.abs(exact-trap)\n",
        "\n",
        "h_list = []\n",
        "t_error = []\n",
        "m_error = []\n",
        "\n",
        "for i in range(1,36):\n",
        "  h,m,t = compute_errors(i,0,1)\n",
        "  h_list.append(h)\n",
        "  t_error.append(t)\n",
        "  m_error.append(m)\n",
        "\n",
        "plt.semilogy(h_list,t_error,label = 'Trapezoid')\n",
        "plt.semilogy(h_list,m_error,label = 'Mid')\n",
        "plt.legend()"
      ],
      "metadata": {
        "colab": {
          "base_uri": "https://localhost:8080/",
          "height": 282
        },
        "id": "A7Pg61aOWjpW",
        "outputId": "d8a4a763-b9b8-4688-fa6b-71cfac942f63"
      },
      "execution_count": 14,
      "outputs": [
        {
          "output_type": "execute_result",
          "data": {
            "text/plain": [
              "<matplotlib.legend.Legend at 0x7fcd8c08fd60>"
            ]
          },
          "metadata": {},
          "execution_count": 14
        },
        {
          "output_type": "display_data",
          "data": {
            "text/plain": [
              "<Figure size 432x288 with 1 Axes>"
            ],
            "image/png": "[encoded data removed]"
          },
          "metadata": {
            "needs_background": "light"
          }
        }
      ]
    }
  ]
}